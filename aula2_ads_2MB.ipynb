{
  "nbformat": 4,
  "nbformat_minor": 0,
  "metadata": {
    "colab": {
      "provenance": [],
      "authorship_tag": "ABX9TyMD4dYPZeqYNUO8b27/ibO3",
      "include_colab_link": true
    },
    "kernelspec": {
      "name": "python3",
      "display_name": "Python 3"
    },
    "language_info": {
      "name": "python"
    }
  },
  "cells": [
    {
      "cell_type": "markdown",
      "metadata": {
        "id": "view-in-github",
        "colab_type": "text"
      },
      "source": [
        "<a href=\"https://colab.research.google.com/github/Marcola081/Marcola081/blob/main/aula2_ads_2MB.ipynb\" target=\"_parent\"><img src=\"https://colab.research.google.com/assets/colab-badge.svg\" alt=\"Open In Colab\"/></a>"
      ]
    },
    {
      "cell_type": "code",
      "execution_count": null,
      "metadata": {
        "colab": {
          "base_uri": "https://localhost:8080/"
        },
        "id": "9jPRhHNOlMet",
        "outputId": "b7260d79-129b-43ec-c707-f0d6d8615c1c"
      },
      "outputs": [
        {
          "output_type": "stream",
          "name": "stdout",
          "text": [
            "<class 'bool'>\n"
          ]
        }
      ],
      "source": [
        "#uninassau\n",
        "#docente: Cloves\n",
        "#Estudante: Marcos e Pedro Lucas\n",
        "#Tipos Primitivos de Dados em Phyton\n",
        "#print('Pedro e Marcos ')\n",
        "\n",
        "\n",
        "c = True\n",
        "print( type ( c ))"
      ]
    },
    {
      "cell_type": "code",
      "source": [],
      "metadata": {
        "id": "jjSoBuCGunQb"
      },
      "execution_count": null,
      "outputs": []
    }
  ]
}